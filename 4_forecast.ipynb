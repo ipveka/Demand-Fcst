{
 "cells": [
  {
   "cell_type": "markdown",
   "metadata": {},
   "source": [
    "## Load and transform data"
   ]
  },
  {
   "cell_type": "markdown",
   "metadata": {},
   "source": [
    "### Load libraries"
   ]
  },
  {
   "cell_type": "code",
   "execution_count": 114,
   "metadata": {},
   "outputs": [],
   "source": [
    "# conda install pandas\n",
    "# conda install xlrd\n",
    "# conda install openpyxl\n",
    "# conda install numpy\n",
    "# pip install sktime[all_extras]\n",
    "\n",
    "# Main libraries\n",
    "\n",
    "import pandas as pd\n",
    "import numpy as np\n",
    "import sktime as sktime\n",
    "import warnings\n",
    "\n",
    "# Get functions from sktime\n",
    "\n",
    "from sktime.datasets import load_airline\n",
    "from sktime.forecasting.arima import AutoARIMA\n",
    "from sktime.forecasting.base import ForecastingHorizon\n",
    "from sktime.forecasting.compose import (\n",
    "    EnsembleForecaster,\n",
    "    ReducedRegressionForecaster,\n",
    "    TransformedTargetForecaster,\n",
    ")\n",
    "from sktime.forecasting.exp_smoothing import ExponentialSmoothing\n",
    "from sktime.forecasting.model_selection import (\n",
    "    ForecastingGridSearchCV,\n",
    "    SlidingWindowSplitter,\n",
    "    temporal_train_test_split,\n",
    ")\n",
    "from sktime.forecasting.naive import NaiveForecaster\n",
    "from sktime.forecasting.theta import ThetaForecaster\n",
    "from sktime.forecasting.trend import PolynomialTrendForecaster\n",
    "from sktime.performance_metrics.forecasting import sMAPE, smape_loss\n",
    "from sktime.utils.plotting import plot_series\n",
    "from sktime.forecasting.ets import AutoETS\n",
    "\n",
    "# Models\n",
    "\n",
    "from sklearn.neighbors import KNeighborsRegressor\n",
    "\n",
    "# Filter warnings\n",
    "\n",
    "warnings.filterwarnings(\"ignore\")"
   ]
  },
  {
   "cell_type": "markdown",
   "metadata": {},
   "source": [
    "### Hyperparameters"
   ]
  },
  {
   "cell_type": "code",
   "execution_count": 115,
   "metadata": {},
   "outputs": [],
   "source": [
    "# Variable to forecast\n",
    "    \n",
    "selected_var = \"car\"\n",
    "\n",
    "# Season cycle\n",
    "\n",
    "season_cycle = 12\n",
    "\n",
    "# Forecast horizon \n",
    "\n",
    "forecast_horizon = 36"
   ]
  },
  {
   "cell_type": "markdown",
   "metadata": {},
   "source": [
    "### Load data"
   ]
  },
  {
   "cell_type": "code",
   "execution_count": 116,
   "metadata": {},
   "outputs": [
    {
     "name": "stdout",
     "output_type": "stream",
     "text": [
      "     Naive  Snaive  Exponential    ETS  Arima  Ensemble  Regression\n",
      "car  0.062   0.061        0.051  0.051  0.058     0.052       0.101\n"
     ]
    }
   ],
   "source": [
    "# Load data\n",
    "\n",
    "data = pd.read_excel(\"Output/data_ready.xlsx\")\n",
    "number_rows = data['Date'].count()\n",
    "\n",
    "# Load optimization\n",
    "\n",
    "optim = pd.read_excel(\"Output/optimization.xlsx\",index_col=0)\n",
    "print(optim)"
   ]
  },
  {
   "cell_type": "markdown",
   "metadata": {},
   "source": [
    "### Parameters"
   ]
  },
  {
   "cell_type": "code",
   "execution_count": 117,
   "metadata": {},
   "outputs": [
    {
     "name": "stdout",
     "output_type": "stream",
     "text": [
      "Model selected for forecast: Exponential\n"
     ]
    }
   ],
   "source": [
    "# Best model\n",
    "\n",
    "which_best = optim.idxmin(axis=1)\n",
    "\n",
    "model_selected = which_best[0]\n",
    "\n",
    "print(\"Model selected for forecast: \" + model_selected)\n",
    "\n",
    "# Time series\n",
    "    \n",
    "# Wrangling\n",
    "\n",
    "df = data[['Date',selected_var]]\n",
    "df[selected_var] = df[selected_var].astype(np.float64)\n",
    "dates = pd.PeriodIndex(df['Date'], freq = \"M\")\n",
    "ts = pd.Series(df[selected_var].values, index = dates)\n",
    "\n",
    "# Total size\n",
    "    \n",
    "number_points = ts.count()\n",
    "number_split = int(number_points*test_size)\n",
    "    \n",
    "# Y train and Y test\n",
    "    \n",
    "y_train = ts\n",
    "\n",
    "# As numeric \n",
    "\n",
    "y_train = pd.to_numeric(y_train)\n",
    "    \n",
    "# Horizon\n",
    "    \n",
    "fh = np.arange(forecast_horizon)\n",
    "\n",
    "fh = pd.to_numeric(fh)"
   ]
  },
  {
   "cell_type": "markdown",
   "metadata": {},
   "source": [
    "### Forecast"
   ]
  },
  {
   "cell_type": "code",
   "execution_count": 118,
   "metadata": {},
   "outputs": [
    {
     "name": "stdout",
     "output_type": "stream",
     "text": [
      "Forecast generated\n"
     ]
    }
   ],
   "source": [
    "if(model_selected == \"Naive\"):\n",
    "\n",
    "    # Naive\n",
    "\n",
    "    forecaster_naive = NaiveForecaster(strategy = \"last\")\n",
    "    forecaster_naive.fit(y_train)\n",
    "    y_pred = forecaster_naive.predict(fh)\n",
    "    \n",
    "    print(\"Forecast generated\")\n",
    "    \n",
    "elif(model_selected == \"Snaive\"):\n",
    "\n",
    "    # Snaive\n",
    "\n",
    "    forecaster_snaive = NaiveForecaster(strategy = \"last\", sp = season_cycle)\n",
    "    forecaster_snaive.fit(y_train)\n",
    "    y_pred = forecaster_snaive.predict(fh)\n",
    "    \n",
    "    print(\"Forecast generated\")\n",
    "    \n",
    "elif(model_selected == \"Exponential\"):\n",
    "\n",
    "    # Exp Smoothing\n",
    "\n",
    "    forecaster_exp = ExponentialSmoothing(trend=\"add\", seasonal=\"multiplicative\", sp=12)\n",
    "    forecaster_exp.fit(y_train)\n",
    "    y_pred = forecaster_exp.predict(fh)\n",
    "    \n",
    "    print(\"Forecast generated\")\n",
    "    \n",
    "elif(model_selected == \"ETS\"):\n",
    "\n",
    "    # ETS\n",
    "\n",
    "    forecaster_ets = AutoETS(auto=True, sp=12, n_jobs=-1)\n",
    "    forecaster_ets.fit(y_train)\n",
    "    y_pred = forecaster_ets.predict(fh)\n",
    "    \n",
    "    print(\"Forecast generated\")\n",
    "    \n",
    "elif(model_selected == \"Arima\"):\n",
    "\n",
    "    # Arima\n",
    "\n",
    "    forecaster_arima = AutoARIMA(sp=12, suppress_warnings=True)\n",
    "    forecaster_arima.fit(y_train)\n",
    "    y_pred = forecaster_arima.predict(fh)\n",
    "    \n",
    "    print(\"Forecast generated\")\n",
    "    \n",
    "elif(model_selected == \"Ensemble\"):\n",
    "\n",
    "    # Ensemble\n",
    "\n",
    "    forecaster_ensemble = EnsembleForecaster(\n",
    "        [\n",
    "            (\"ses\", ExponentialSmoothing(seasonal=\"multiplicative\", sp=12)),\n",
    "            (\n",
    "                \"holt\",\n",
    "                ExponentialSmoothing(\n",
    "                    trend=\"add\", damped=False, seasonal=\"multiplicative\", sp=12\n",
    "                ),\n",
    "            ),\n",
    "            (\n",
    "                \"damped\",\n",
    "                ExponentialSmoothing(\n",
    "                    trend=\"add\", damped=True, seasonal=\"multiplicative\", sp=12\n",
    "                ),\n",
    "            ),\n",
    "        ]\n",
    "    )\n",
    "\n",
    "    forecaster_ensemble.fit(y_train)\n",
    "    y_pred = forecaster_ensemble.predict(fh)\n",
    "    \n",
    "    print(\"Forecast generated\")\n",
    "    \n",
    "elif(model_selected == \"Regression\"):\n",
    "\n",
    "    # Reduced regression\n",
    "\n",
    "    regressor = KNeighborsRegressor(n_neighbors=1)\n",
    "    forecaster_reg = ReducedRegressionForecaster(\n",
    "        regressor = regressor, window_length=15, strategy=\"recursive\"\n",
    "    )\n",
    "    param_grid = {\"window_length\": [5, 10, 15]}\n",
    "\n",
    "    cv = SlidingWindowSplitter(initial_window=int(len(y_train) * 0.5))\n",
    "    gscv = ForecastingGridSearchCV(forecaster_reg, cv = cv, param_grid = param_grid)\n",
    "    gscv.fit(y_train)\n",
    "    y_pred = gscv.predict(fh)\n",
    "    \n",
    "    print(\"Forecast generated\")\n",
    "    \n",
    "else:\n",
    "        \n",
    "    print(\"Error: Model not found\")\n",
    "    \n",
    "# Done"
   ]
  },
  {
   "cell_type": "markdown",
   "metadata": {},
   "source": [
    "### Save results"
   ]
  },
  {
   "cell_type": "code",
   "execution_count": 119,
   "metadata": {},
   "outputs": [
    {
     "name": "stdout",
     "output_type": "stream",
     "text": [
      "               car\n",
      "2020-12  66.533429\n",
      "2021-01  71.793119\n",
      "2021-02  72.481815\n",
      "2021-03  72.464369\n",
      "2021-04  73.465983\n",
      "2021-05  74.019504\n",
      "2021-06  76.306119\n",
      "2021-07  79.521316\n",
      "2021-08  77.229886\n",
      "2021-09  71.376366\n",
      "2021-10  68.308198\n",
      "2021-11  66.076104\n",
      "2021-12  66.568883\n",
      "2022-01  70.568442\n",
      "2022-02  71.243630\n",
      "2022-03  71.224717\n",
      "2022-04  72.207402\n",
      "2022-05  72.749628\n",
      "2022-06  74.995139\n",
      "2022-07  78.153139\n",
      "2022-08  75.899226\n",
      "2022-09  70.144793\n",
      "2022-10  67.127867\n",
      "2022-11  64.932696\n",
      "2022-12  65.415285\n",
      "2023-01  69.343765\n",
      "2023-02  70.005445\n",
      "2023-03  69.985065\n",
      "2023-04  70.948821\n",
      "2023-05  71.479752\n",
      "2023-06  73.684160\n",
      "2023-07  76.784961\n",
      "2023-08  74.568565\n",
      "2023-09  68.913219\n",
      "2023-10  65.947537\n",
      "2023-11  63.789289\n"
     ]
    },
    {
     "data": {
      "image/png": "[encoded data removed]",
      "text/plain": [
       "<Figure size 1152x288 with 1 Axes>"
      ]
     },
     "metadata": {
      "needs_background": "light"
     },
     "output_type": "display_data"
    }
   ],
   "source": [
    "# Forecasted values\n",
    "\n",
    "final_forecast = pd.DataFrame(y_pred, columns = [selected_var])\n",
    "\n",
    "print(final_forecast)\n",
    "\n",
    "# Save plot\n",
    "\n",
    "fig, ax = plot_series(y_train, y_pred, labels=[\"y_train\", \"y_pred_reg\"])\n",
    "\n",
    "ax.set(title = selected_var, xlabel='Time', ylabel='Value')\n",
    "\n",
    "fig.savefig('Graphics/' + 'forecasted_values_' + selected_var + '.png')\n",
    "\n",
    "# Write object\n",
    "\n",
    "final_forecast.to_excel(\"Output/forecasted_values.xlsx\",index = True)  "
   ]
  }
 ],
 "metadata": {
  "kernelspec": {
   "display_name": "Python 3",
   "language": "python",
   "name": "python3"
  },
  "language_info": {
   "codemirror_mode": {
    "name": "ipython",
    "version": 3
   },
   "file_extension": ".py",
   "mimetype": "text/x-python",
   "name": "python",
   "nbconvert_exporter": "python",
   "pygments_lexer": "ipython3",
   "version": "3.8.5"
  }
 },
 "nbformat": 4,
 "nbformat_minor": 4
}
